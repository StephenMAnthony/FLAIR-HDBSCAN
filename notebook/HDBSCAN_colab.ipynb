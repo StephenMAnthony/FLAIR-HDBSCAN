{
 "cells": [
  {
   "cell_type": "markdown",
   "metadata": {
    "id": "qZnNZXQmz0wg"
   },
   "source": [
    "# <center><strong>HDSCAN Clustering of FLAIR Data</strong></center>\n",
    "## <center><strong>Complete Analysis</strong></center>\n",
    "<br/>\n",
    "\n",
    "<br/><center>This notebook provides a view of the exploratory project to test whether HDBSCAN clustering can serve as a replacement for manual annotation. </center>\n",
    "<br/> <br/>\n",
    "  "
   ]
  },
  {
   "cell_type": "markdown",
   "metadata": {
    "id": "CL81kuv8z6d3"
   },
   "source": [
    "<hr style=\"height:1.5px;border-width:0;color:red;background-color:red\">    \n",
    "\n",
    "# <font color='red'>PART-0: Setting up Google Colab</font>\n",
    "\n",
    "The section below is added to setup Google Colab, cloning the GitHub Repository and downloading the data.\n",
    "\n",
    "<br/>"
   ]
  },
  {
   "cell_type": "code",
   "execution_count": null,
   "metadata": {
    "colab": {
     "base_uri": "https://localhost:8080/"
    },
    "id": "bvQtrpE3xZS-",
    "outputId": "3304e587-4691-4658-c3e8-1a606a3b8399"
   },
   "outputs": [],
   "source": [
    "! git clone https://github.com/StephenMAnthony/FLAIR-HDBSCAN.git"
   ]
  },
  {
   "cell_type": "code",
   "execution_count": null,
   "metadata": {
    "colab": {
     "base_uri": "https://localhost:8080/"
    },
    "id": "UUxIli1myI-a",
    "outputId": "f80a9878-bba1-4c95-c4ad-24de5fe2409d"
   },
   "outputs": [],
   "source": [
    "!wget https://storage.gra.cloud.ovh.net/v1/AUTH_366279ce616242ebb14161b7991a8461/defi-ia/flair_data_2/flair_2_toy_dataset.zip"
   ]
  },
  {
   "cell_type": "markdown",
   "metadata": {
    "id": "8luf44aMzyKx"
   },
   "source": []
  },
  {
   "cell_type": "code",
   "execution_count": null,
   "metadata": {
    "colab": {
     "base_uri": "https://localhost:8080/"
    },
    "id": "sNcDkB3QyeiH",
    "outputId": "384f5dac-ee3c-443b-e5c5-c30d5bfd0213"
   },
   "outputs": [],
   "source": [
    "!unzip flair_2_toy_dataset.zip -d data"
   ]
  },
  {
   "cell_type": "code",
   "execution_count": null,
   "metadata": {
    "colab": {
     "base_uri": "https://localhost:8080/"
    },
    "id": "fQ_VbZ0p0sVV",
    "outputId": "9455eee9-70c1-4d8b-8a99-9f13c371b72c"
   },
   "outputs": [],
   "source": [
    "%cd /content/FLAIR-HDBSCAN/"
   ]
  },
  {
   "cell_type": "code",
   "execution_count": null,
   "metadata": {
    "colab": {
     "base_uri": "https://localhost:8080/"
    },
    "id": "ZGRt6mcw-dY1",
    "outputId": "263ce1b1-1c15-497d-a4aa-6f117bc0d1fe"
   },
   "outputs": [],
   "source": [
    "!git checkout development"
   ]
  },
  {
   "cell_type": "code",
   "execution_count": null,
   "metadata": {
    "id": "ykGSuBUW-6KF"
   },
   "outputs": [],
   "source": [
    "# Install python 3.11\n",
    "# !sudo apt-get update -y\n",
    "# !sudo apt-get install python3.11"
   ]
  },
  {
   "cell_type": "code",
   "execution_count": null,
   "metadata": {
    "id": "LRI082rH_IGM"
   },
   "outputs": [],
   "source": [
    "# Change default python3 to 3.12\n",
    "# !sudo update-alternatives --install /usr/bin/python3 python3 /usr/bin/python3.11 1\n",
    "# !sudo apt install python3-pip\n",
    "\n",
    "# Confirm version\n",
    "# !python3 --version\n",
    "# Python 3.11.9"
   ]
  },
  {
   "cell_type": "code",
   "execution_count": null,
   "metadata": {
    "colab": {
     "base_uri": "https://localhost:8080/",
     "height": 1000
    },
    "id": "ziyrQkPg3PAC",
    "outputId": "e7c51f07-3955-4900-da5f-82f6d89e0fef"
   },
   "outputs": [],
   "source": [
    "%pip install -r requirements.txt"
   ]
  },
  {
   "cell_type": "markdown",
   "metadata": {
    "id": "3193bbbe-5a71-4941-954b-9790a519506a"
   },
   "source": [
    "<hr style=\"height:1.5px;border-width:0;color:red;background-color:red\">    \n",
    "\n",
    "# <font color='red'>PART-1: Data visualization with the toy dataset training data</font>\n",
    "\n",
    "Note, that this project uses the FLAIR #2 dataset, a publicly available dataset. A reference implementation (including a baseline model) is available in a GitHub repository. The baseline model uses a two-branch architecture integrating a U-Net with a pre-trained ResNet34 encoder and a U-TAE encompassing a temporal self-attention encoder. This project experiments with an alternative data analysis technique, HDBSCAN. As such, this notebook does not use the baseline model. Part 1 uses the reference implementation with minor modifications to load and display the unanalyzed data. The novel portion of this project starts at Part 2.\n",
    "\n",
    "Links\n",
    "Datapaper: https://arxiv.org/pdf/2305.14467.pdf\n",
    "Dataset link: https://ignf.github.io/FLAIR/#FLAIR2\n",
    "Reference Source code link: https://github.com/IGNF/FLAIR-2/tree/main\n",
    "Challenge page: https://codalab.lisn.upsaclay.fr/competitions/13447\n",
    "\n",
    "<p dir=\"auto\">Citation required when using the FLAIR #2 dataset:</p>\n",
    "<div class=\"highlight highlight-text-bibtex notranslate position-relative overflow-auto\" dir=\"auto\" data-snippet-clipboard-copy-content=\"@inproceedings{ign2023flair2,\n",
    "      title={FLAIR: a Country-Scale Land Cover Semantic Segmentation Dataset From Multi-Source Optical Imagery},\n",
    "      author={Anatol Garioud and Nicolas Gonthier and Loic Landrieu and Apolline De Wit and Marion Valette and Marc Poupée and Sébastien Giordano and Boris Wattrelos},\n",
    "      year={2023},\n",
    "      booktitle={Advances in Neural Information Processing Systems (NeurIPS) 2023},\n",
    "      doi={https://doi.org/10.48550/arXiv.2310.13336},\n",
    "}\"><pre><span class=\"pl-k\">@inproceedings</span>{<span class=\"pl-en\">ign2023flair2</span>,\n",
    "      <span class=\"pl-s\">title</span>=<span class=\"pl-s\"><span class=\"pl-pds\">{</span>FLAIR: a Country-Scale Land Cover Semantic Segmentation Dataset From Multi-Source Optical Imagery<span class=\"pl-pds\">}</span></span>,\n",
    "      <span class=\"pl-s\">author</span>=<span class=\"pl-s\"><span class=\"pl-pds\">{</span>Anatol Garioud and Nicolas Gonthier and Loic Landrieu and Apolline De Wit and Marion Valette and Marc Poupée and Sébastien Giordano and Boris Wattrelos<span class=\"pl-pds\">}</span></span>,\n",
    "      <span class=\"pl-s\">year</span>=<span class=\"pl-s\"><span class=\"pl-pds\">{</span>2023<span class=\"pl-pds\">}</span></span>,\n",
    "      <span class=\"pl-s\">booktitle</span>=<span class=\"pl-s\"><span class=\"pl-pds\">{</span>Advances in Neural Information Processing Systems (NeurIPS) 2023<span class=\"pl-pds\">}</span></span>,\n",
    "      <span class=\"pl-s\">doi</span>=<span class=\"pl-s\"><span class=\"pl-pds\">{</span>https://doi.org/10.48550/arXiv.2310.13336<span class=\"pl-pds\">}</span></span>,\n",
    "}</pre></div>\n",
    "\n",
    "\n",
    "<br/>"
   ]
  },
  {
   "cell_type": "code",
   "execution_count": null,
   "metadata": {
    "id": "943bd9f5-ba60-4bc2-95bc-895ba173bf5d"
   },
   "outputs": [],
   "source": [
    "import yaml\n",
    "import sys\n",
    "\n",
    "import numpy as np\n",
    "import matplotlib.pyplot as plt\n",
    "\n",
    "from os.path import join\n",
    "from pathlib import Path\n",
    "from importlib import reload"
   ]
  },
  {
   "cell_type": "code",
   "execution_count": null,
   "metadata": {
    "colab": {
     "base_uri": "https://localhost:8080/"
    },
    "id": "9g-H-k895gOZ",
    "outputId": "283aeea9-7e40-4188-b3bf-8f76a8b433e3"
   },
   "outputs": [],
   "source": [
    "%cd /content/FLAIR-HDBSCAN/"
   ]
  },
  {
   "cell_type": "code",
   "execution_count": null,
   "metadata": {
    "id": "49a23061-65fd-418f-a471-cd22d612ecf9"
   },
   "outputs": [],
   "source": [
    "FLAIR_path = join(Path.cwd(),'FLAIR-code/src')\n",
    "if FLAIR_path not in sys.path:\n",
    "    sys.path.append(FLAIR_path)"
   ]
  },
  {
   "cell_type": "code",
   "execution_count": null,
   "metadata": {
    "id": "2hR0Px-B05GI"
   },
   "outputs": [],
   "source": [
    "from data_display import (display_nomenclature,\n",
    "                            display_samples,\n",
    "                            display_time_serie,\n",
    "                            display_all_with_semantic_class,\n",
    "                            display_all,\n",
    "                            read_dates,\n",
    "                            filter_dates)\n",
    "from load_data import load_data\n",
    "from FusedDataset import FusedDataset\n",
    "from calc_miou import calc_miou"
   ]
  },
  {
   "cell_type": "markdown",
   "metadata": {
    "id": "857d1ceb-c611-4878-947a-d8650e9ec1fc"
   },
   "source": [
    "## <font color='#90c149'>Nomenclatures</font>\n",
    "\n",
    "<br/><hr>\n",
    "\n",
    "The predefined semantic land-cover classes used in the FLAIR #2 datatset. <font color='#90c149'>Two nomenclatures are available </font> :\n",
    "<ul>\n",
    "    <li>the <strong><font color='#90c149'>full nomenclature</font></strong> corresponds to the semantic classes used by experts in photo-interpretation to label the pixels of the ground-truth images.</li>\n",
    "    <li>the <font color='#90c149'><b>main (baseline) nomenclature</b></font> is a simplified version of the full nomenclature. It regroups (into the class 'other') classes that are either strongly under-represented or irrelevant to this challenge.</li>\n",
    "</ul>        \n",
    "See the associated datapaper (https://arxiv.org/pdf/2305.14467.pdf) for additionnal details on these nomenclatures.<br/><br/>\n",
    "\n",
    "<font color='#90c149'>Note:</font> For this project, the reduced nomenclature is used. <br/><hr><br/>"
   ]
  },
  {
   "cell_type": "code",
   "execution_count": null,
   "metadata": {
    "colab": {
     "base_uri": "https://localhost:8080/",
     "height": 684
    },
    "id": "02d7c62b-1307-4c73-9db9-8c3054caf75b",
    "outputId": "eb18bec8-a9cd-44bb-f8bd-4536bea3638f"
   },
   "outputs": [],
   "source": [
    "display_nomenclature()"
   ]
  },
  {
   "cell_type": "markdown",
   "metadata": {
    "id": "2abcbd96-46db-459f-ae0d-51264645c350"
   },
   "source": [
    "## <font color='#90c149'>Load Data</font>\n",
    "\n",
    "<br/><hr>\n",
    "\n",
    "Use reference code to create lists containing the paths to the input images (`images`) and supervision masks (`masks`) files of the dataset.<hr><br/>"
   ]
  },
  {
   "cell_type": "code",
   "execution_count": null,
   "metadata": {
    "id": "ac154f22-ee49-4361-8686-d313f4907db2"
   },
   "outputs": [],
   "source": [
    "config_path = \"/content/FLAIR-HDBSCAN/flair-2-config-colab.yml\"\n",
    "with open(config_path, \"r\") as f:\n",
    "    config = yaml.safe_load(f)\n",
    "\n",
    "# Creation of the train, val, and test dictionaries with the data file paths\n",
    "# Note that due to using the toy dataset we assign 100% of the data for training.\n",
    "# While not best practice for machine learning, for the toy dataset when using the stock code and less than 100%, issues randomly arise when using the reference loader\n",
    "# as the random selection can result in some semantic classes not being represented. If the full FLAIR #2 dataset were employed, validation data should be separate.\n",
    "# Due to size limitations on HDBSCAN, for actual training we downsample to ~1 % of the training data for training and use 100% of the training data for fitting.\n",
    "d_train, d_val, d_test = load_data(config, val_percent=1)\n",
    "\n",
    "# Create a torch dataset of the training data\n",
    "train_dataset = FusedDataset(dict_files=d_train, config=config)"
   ]
  },
  {
   "cell_type": "markdown",
   "metadata": {
    "id": "92db4752-7a7a-4837-a140-b8b87efc94dc"
   },
   "source": [
    "## <font color='#90c149'>Training Data</font>\n",
    "\n",
    "<br/><hr>\n",
    "\n",
    "Load an alternate representation of the training data. <hr><br/>"
   ]
  },
  {
   "cell_type": "code",
   "execution_count": null,
   "metadata": {
    "id": "32fe11eb-f9f9-423c-9419-666e43a3b673"
   },
   "outputs": [],
   "source": [
    "train_aerial_images = d_train[\"PATH_IMG\"]\n",
    "train_sentinel_images = d_train[\"PATH_SP_DATA\"]\n",
    "train_labels = d_train[\"PATH_LABELS\"]\n",
    "train_sentinel_masks = d_train[\"PATH_SP_MASKS\"] # Cloud masks\n",
    "train_sentinel_products = d_train[\"PATH_SP_DATES\"] # Needed to get the dates of the sentinel images\n",
    "train_centroids = d_train[\"SP_COORDS\"] # Position of the aerial image in the sentinel super area"
   ]
  },
  {
   "cell_type": "markdown",
   "metadata": {
    "id": "069bf1cb-ba8a-4efa-a055-1c86c61a2c35"
   },
   "source": [
    "## <font color='#90c149'>Visualize Training Data</font>\n",
    "\n",
    "<br/><hr>\n",
    "\n",
    "Display some random samples of image and mask pairs. <font color='#90c149'>Re-run the cell bellow for a different image.</font> Here we also plot the Sentinel super area, super patch and patch. Even though the last one is not used in practice, it is shown to provide an idea of what the Sentinel data looks like. The red rectangle shows the extent of the RGB image inside the Sentinel image. <hr><br/>"
   ]
  },
  {
   "cell_type": "code",
   "execution_count": null,
   "metadata": {
    "colab": {
     "base_uri": "https://localhost:8080/",
     "height": 538
    },
    "id": "9f53d5c7-a494-4f61-9024-abd851aa7e24",
    "outputId": "f7974ded-4b42-4bce-9a9d-d766dda05fc6"
   },
   "outputs": [],
   "source": [
    "display_samples(train_aerial_images, train_labels, train_sentinel_images, train_centroids)"
   ]
  },
  {
   "cell_type": "markdown",
   "metadata": {
    "id": "6b5b1407-4bff-4a96-a87b-ef45378fcd37"
   },
   "source": [
    "<br/><hr>\n",
    "We can also plot a few images from sentinel time series along with the acquisition date. Note that some dates may have extensive cloud coverage.<BR>\n",
    "<font color='#90c149'>Re-run the cell below to display sentinel images for different patches.</font>\n",
    "\n",
    "<hr><br/>"
   ]
  },
  {
   "cell_type": "code",
   "execution_count": null,
   "metadata": {
    "colab": {
     "base_uri": "https://localhost:8080/",
     "height": 1000
    },
    "id": "0336cf70-3522-443c-b4f8-c5dfb2f26182",
    "outputId": "43d80b67-6fe8-42e4-a6f5-1bf29e5dda80"
   },
   "outputs": [],
   "source": [
    "display_time_serie(train_sentinel_images, train_sentinel_masks, train_sentinel_products, nb_samples=3)"
   ]
  },
  {
   "cell_type": "markdown",
   "metadata": {
    "id": "2a76ca4f-6538-4b2c-865e-e90219ef7523"
   },
   "source": [
    "<br/><hr>\n",
    "\n",
    "Next let's have a closer look at some specific semantic class.<br/>\n",
    "By setting `semantic_class` to a class number (*e.g.*, `semantic_class`=1 for building or `semantic_class`=5 for water) we can visualize the images containing pixels of this specific class. (the full nomenclature is used here.)<br/>\n",
    "<font color='#90c149'>Re-run the cell below with different `semantic_class` values as desired.</font>\n",
    "<hr><br/>"
   ]
  },
  {
   "cell_type": "code",
   "execution_count": null,
   "metadata": {
    "colab": {
     "base_uri": "https://localhost:8080/",
     "height": 1000
    },
    "id": "afb00841-2be1-4114-bf6e-2738b00606ba",
    "outputId": "9342bb33-3bfa-4c02-92ad-c383834858fb"
   },
   "outputs": [],
   "source": [
    "display_all_with_semantic_class(train_aerial_images, train_labels, semantic_class=1)"
   ]
  },
  {
   "cell_type": "markdown",
   "metadata": {
    "id": "5e88c4bc-e451-48bb-9817-f02276aa85ce"
   },
   "source": [
    "<br/><hr>\n",
    "\n",
    "We can directly display all images.<br/> <hr><br/>"
   ]
  },
  {
   "cell_type": "code",
   "execution_count": null,
   "metadata": {
    "colab": {
     "base_uri": "https://localhost:8080/",
     "height": 887
    },
    "id": "6fa8884e-924f-4181-b40f-c519bcab1d7a",
    "outputId": "742be62d-c655-4a75-b0ee-30ec0947685f"
   },
   "outputs": [],
   "source": [
    "display_all(train_aerial_images, train_labels)"
   ]
  },
  {
   "cell_type": "markdown",
   "metadata": {
    "id": "7d75bbae-02d7-4a1d-8321-4ac2197b55c7"
   },
   "source": [
    "<br><br>\n",
    "<hr style=\"height:3px;border-width:0;color:red;background-color:red\">   \n",
    "\n",
    "# <center><font color='red'>PART-2: Initialize the Exploratory Project </font></center>\n",
    "\n",
    "All code imported from this point onward was developed specifically for this exploratory project.\n",
    "\n",
    "<hr><br/>"
   ]
  },
  {
   "cell_type": "code",
   "execution_count": null,
   "metadata": {
    "id": "c3a61630-2108-4526-ae8b-71de38458183"
   },
   "outputs": [],
   "source": [
    "project_path = join(Path.cwd(),'code')\n",
    "if project_path not in sys.path:\n",
    "    sys.path.append(project_path)"
   ]
  },
  {
   "cell_type": "code",
   "execution_count": null,
   "metadata": {
    "id": "0f985b50-b06f-47f2-a8e3-ed50e57c33ec"
   },
   "outputs": [],
   "source": [
    "import naive\n",
    "reload(naive)\n",
    "from naive import naive_clustering\n",
    "\n",
    "import display\n",
    "reload(display)\n",
    "from display import box_whisker_by_class\n",
    "from display import class_distributions\n",
    "from display import display_normalization_scatter\n",
    "from display import display_confusion\n",
    "from display import plot_timing\n",
    "from display import compare_labels\n",
    "from display import display_pixel_spectrum\n",
    "from display import dict_to_dataframe\n",
    "\n",
    "import classifier\n",
    "reload(classifier)\n",
    "from classifier import extract_spectra\n",
    "from classifier import train_and_validate_model\n",
    "from classifier import apply_model\n",
    "from classifier import predict_pixels"
   ]
  },
  {
   "cell_type": "markdown",
   "metadata": {
    "id": "914fb3d1-7290-4f64-87bd-2b0e49743df9"
   },
   "source": [
    "<br><br>\n",
    "<hr style=\"height:3px;border-width:0;color:red;background-color:red\">   \n",
    "\n",
    "# <center><font color='red'>PART-3: Visualizing the Data</font></center>\n",
    "\n",
    "<br/><hr>\n",
    "\n",
    "Visualizations of the training data.\n",
    "\n",
    "<hr><br/>"
   ]
  },
  {
   "cell_type": "markdown",
   "metadata": {
    "id": "37798f7a-c1fb-4dd0-aee2-87a2c7a6cc21"
   },
   "source": [
    "<hr>\n",
    "Display the class distribution of pixels in the training data.\n",
    "<hr><br/>"
   ]
  },
  {
   "cell_type": "code",
   "execution_count": null,
   "metadata": {
    "colab": {
     "base_uri": "https://localhost:8080/",
     "height": 683
    },
    "id": "c680bacb-129c-4411-b70b-68bc7d0aa373",
    "outputId": "8a733d07-7d12-43f5-d6d8-e96196968095"
   },
   "outputs": [],
   "source": [
    "train_labels = class_distributions(train_dataset, config)"
   ]
  },
  {
   "cell_type": "markdown",
   "metadata": {
    "id": "95d160f8-43b8-4dd7-9f2c-f75f6df96814"
   },
   "source": [
    "<hr>\n",
    "Display the shape of the dataframe and the first 5 rows.\n",
    "<hr><br/>"
   ]
  },
  {
   "cell_type": "code",
   "execution_count": null,
   "metadata": {
    "colab": {
     "base_uri": "https://localhost:8080/",
     "height": 224
    },
    "id": "69d22122-0022-4861-a6a2-ea1ae556ba6e",
    "outputId": "9e495bd6-ac6f-4e30-9695-5029567edb17"
   },
   "outputs": [],
   "source": [
    "dataframe = extract_spectra(train_dataset, config, downsample=True, no_other=True, scale_by_intensity=False)\n",
    "print(f\"The dataframe has shape {dataframe.shape}, and the first 5 rows look like below:\")\n",
    "dataframe.head()"
   ]
  },
  {
   "cell_type": "markdown",
   "metadata": {
    "id": "9804d2d6-6db0-447d-a054-b317f8f2c78a"
   },
   "source": [
    "<hr>\n",
    "Display the distribution of channel values by semantic classes.<br/> Setting third input (`channel`) to a channel number (*e.g.*, Blue=1, Green=2, Red=3, NIR=4, ..., Elevation=15) displays a box and whisker plot. The box extends from the data's first quartile (Q1) to the third quartile (Q3), where the orange line represents the median. The interquartile distance (IQR) is between Q1 and Q3 (Q3 - Q1). Data points below Q1 - 1.5*IQR or above Q3 + 1.5*IQR are classified as outliers or fliers; such points are displayed individually with circles. Whiskers extend from the box in each direction to the farthest data point which is not an outlier or flier. <BR>\n",
    "<font color='#90c149'>Re-run the cell below with a different value of the third input, `channel`, to see the results for a different channel, band, or elevation.</font>\n",
    "<hr><br/>"
   ]
  },
  {
   "cell_type": "code",
   "execution_count": null,
   "metadata": {
    "colab": {
     "base_uri": "https://localhost:8080/",
     "height": 659
    },
    "id": "6796f1c7-bf55-4d34-8162-f297dd118fe5",
    "outputId": "88cb5d18-8076-407c-a7c6-a868c3376ab0"
   },
   "outputs": [],
   "source": [
    "box_whisker_by_class(dataframe, config, 4)"
   ]
  },
  {
   "cell_type": "markdown",
   "metadata": {
    "id": "222c1ff3-93c0-4800-b715-307d0db505ab"
   },
   "source": [
    "##### <br><br>\n",
    "<hr style=\"height:3px;border-width:0;color:red;background-color:red\">   \n",
    "\n",
    "# <center><font color='red'>PART-4: Spectral Normalization</font></center>\n",
    "\n",
    "<br/><hr>\n",
    "\n",
    "Spectral analysis is sometimes improved by separating the spectral profile from the intensity. Normalize all the spectra and add an additional feature corresponding to the intensity. One reason this can be useful is that due to a combination of sun angle and/or off-nadir imaging, there might be shadows. Shadows will generally have a similar spectral shape but different intensity.\n",
    "\n",
    "<hr><br/>"
   ]
  },
  {
   "cell_type": "markdown",
   "metadata": {
    "id": "978ae6d4-78e8-4cdb-8955-d3ad577c7897"
   },
   "source": [
    "<br/><hr>\n",
    "\n",
    "The two plots below show scatter plot of the distribution of values of the two spectral components without and with spectral normalization.\n",
    "The input channel values (e.g., 'channel1', 'channel2') can be varied using the channel numbers (*e.g.*, Blue=1, Green=2, Red=3, NIR=4, ..., Elevation=15)\n",
    "The raw spectra show a strong correlation between the red and green channels, but comparison with the normalized spectra indicates that much of that correlation is simply a similar dependence upon intensity. When the spectra are normalized, additional grouping and altered distribution is seen. <br/>\n",
    "<font color='#90c149'>Re-run the cell below with a different value(s) of the (`channel1`) and (`channel2`) inputs to see the effect of spectral normalization on different pairs of channels or bands.</font>\n",
    "<hr><br/>"
   ]
  },
  {
   "cell_type": "code",
   "execution_count": null,
   "metadata": {
    "colab": {
     "base_uri": "https://localhost:8080/",
     "height": 504
    },
    "id": "f838c7e5-3cad-495d-8244-a7c75a3001e2",
    "outputId": "1a2b3e7b-c254-4b8f-d0a9-b57cf5ff5a4f"
   },
   "outputs": [],
   "source": [
    "display_normalization_scatter(train_dataset, config, channel1=2, channel2=3)"
   ]
  },
  {
   "cell_type": "markdown",
   "metadata": {
    "id": "a8bc79aa-8fd8-4448-8edf-a2946de4c204"
   },
   "source": [
    "##### <br><br>\n",
    "<hr style=\"height:3px;border-width:0;color:red;background-color:red\">   \n",
    "\n",
    "# <center><font color='red'>PART-5: Models Training and Validation</font></center>\n",
    "\n",
    "<br/><hr>\n",
    "\n",
    "The FLAIR #2 toy dataset is employed, which previously was split into training and test datasets. While best practice is typically to employ training, validation, and test datasets, when working with the toy dataset the random subsetting of the training data into training and validation caused issues as not all classes were always represented in all datasets. Additionally, HDBSCAN (run later) was found to have issues scaling to 1 million pixels. Therefore, rather than randomly assigning some of the 512x512 pixel patches to train and others to validation, we do not assign any patches to validation. Instead, we downsample the training data by a factor of 10 in each dimension before training, effectively using 1% of the training data to train. Validation is performed on the complete training data, of which 99% was not used for training. <br/>\n",
    "\n",
    "Various model configurations can be developed here, with the exact model specified by numerous Boolean parameters. <br>\n",
    "\n",
    "If (`use_hdbscan`) is (`False`), the KNN model will be trained using the manually annotated class labels. If (`use_hdbscan`)<br> is (`True`), autonomously generated labels will be found using HDBSCAN clustering and these labels will be used to train the KNN model. <br>\n",
    "\n",
    "If (`use_satellite`) is (`False`), only the aerial data will be used. If (`use_satellite`)<br> is (`True`), the Sentinel-2 satellite spectra will be appended. <br>\n",
    "\n",
    "If (`scale_by_intensity`) is (`False`), spectral normalization is not employed. If (`scale_by_intensity`)<br> is (`True`), spectral normalization is employed. <br>\n",
    "\n",
    "If (`append_intensity`) is (`False`), nothing happens. If (`append_intensity`)<br> is (`True`) AND (`scale_by_intensity`)<br> is (`True`), the aerial intensity is appended as an additional feature. <br>\n",
    "\n",
    "If (`robust_scale`) is (`False`), RobustScaler() is not employed. If (`robust_scale`)<br> is (`True`), RobustScaler() is employed. <br>\n",
    "\n",
    "If (`check_reliability`) is (`False`), nothing happens. If (`check_reliability`)<br> is (`True`), additional calculations are performed and some reliability metrics are displayed. <br>\n",
    "\n",
    "The recommended (best mIoU scores) models for both when (`use_hdbscan`) is (`False`) and when (`use_hdbscan`) is (`True`) are set to run below by default. The settings are (`use_satellite`) is (`True`), (`scale_by_intensity`) is (`True`), (`append_intensity`) is (`False`), and (`robust_scale`) is (`False`).\n",
    "\n",
    "\n",
    "<font color='#ff0000'>Warning: The steps in this section can be very computationally expensive. Configuration should allow 8 GB of RAM; with a normal CPU each cell may take 10-20 minutes to complete.</font>\n",
    "\n",
    "<font color='#90c149'>Re-run the two cells below with different value(s) of the inputs specified above to try different combinations of settings as desired.</font>\n",
    "\n",
    "<hr><br/>"
   ]
  },
  {
   "cell_type": "code",
   "execution_count": null,
   "metadata": {
    "colab": {
     "base_uri": "https://localhost:8080/"
    },
    "id": "110b207c-3638-4ed2-835a-bada90956e25",
    "outputId": "39bc4b38-aa73-4631-a8fb-88593ee2b9f2"
   },
   "outputs": [],
   "source": [
    "%%time\n",
    "knn_model = train_and_validate_model(train_dataset, config, use_hdbscan=False, use_satellite=True, scale_by_intensity=True, append_intensity=False, robust_scale=False, check_reliability=True)"
   ]
  },
  {
   "cell_type": "code",
   "execution_count": null,
   "metadata": {
    "colab": {
     "base_uri": "https://localhost:8080/"
    },
    "id": "729e1bee-bc15-42a2-ac57-d77bd6c20e31",
    "outputId": "1d3f5cf8-cc0f-4f58-b9ae-86400bd24123"
   },
   "outputs": [],
   "source": [
    "%%time\n",
    "hdbscan_model = train_and_validate_model(train_dataset, config, use_hdbscan=True, use_satellite=True, scale_by_intensity=True, append_intensity=False, robust_scale=False, check_reliability=True)"
   ]
  },
  {
   "cell_type": "markdown",
   "metadata": {
    "id": "9b795026-9711-49ed-a85f-cb1a8984a31a"
   },
   "source": [
    "<br/><hr>\n",
    "\n",
    "Display the confusion matrices and MIOU metrics for the models run above. <br/> <hr><br/>"
   ]
  },
  {
   "cell_type": "code",
   "execution_count": null,
   "metadata": {
    "colab": {
     "base_uri": "https://localhost:8080/",
     "height": 973
    },
    "id": "2b44ef30-e963-43c7-b0c9-1a46091dcbf5",
    "outputId": "e6f610de-9925-4ef8-9aaf-48c2b7f701f0"
   },
   "outputs": [],
   "source": [
    "display_confusion(knn_model, config);"
   ]
  },
  {
   "cell_type": "code",
   "execution_count": null,
   "metadata": {
    "colab": {
     "base_uri": "https://localhost:8080/",
     "height": 973
    },
    "id": "29dfb1cc-656a-44d4-bb36-5883fdac5b80",
    "outputId": "3a409a6b-da84-4ad4-8975-a3522959b4fd"
   },
   "outputs": [],
   "source": [
    "display_confusion(hdbscan_model, config);"
   ]
  },
  {
   "cell_type": "markdown",
   "metadata": {
    "id": "a0bc22ea-1ef0-4f21-aa8c-171807d11362",
    "tags": []
   },
   "source": [
    "<hr>\n",
    "\n",
    "The first row displays the aerial data, the manually annotated class labels (treated as ground truth), and an overlay. \n",
    "The second row highlights the pixels where the KNN model trained on the manually annotated labels misidentifies the class. \n",
    "The third row highlights the pixels where the KNN model trained on the manually annotated labels misidentifies the class. \n",
    "\n",
    "<font color='#90c149'>Re-run the two cells below with different value(s) of the input (`index`) to see different patches as desired.</font>\n",
    "\n",
    "<hr><br/>"
   ]
  },
  {
   "cell_type": "code",
   "execution_count": null,
   "metadata": {},
   "outputs": [],
   "source": [
    "true_labels = compare_labels(train_dataset, knn_model, hdbscan_model, config, index=4)"
   ]
  },
  {
   "cell_type": "markdown",
   "metadata": {
    "id": "f48c9501-214f-4954-9fd3-7e87b2e698ab"
   },
   "source": [
    "<br><br>\n",
    "<hr style=\"height:3px;border-width:0;color:red;background-color:red\">   \n",
    "\n",
    "# <center><font color='red'>PART-6: Computational Time</font></center>\n",
    "\n",
    "<br/><hr>\n",
    "This section generates figures of the computational time. The computational time must be manually recorded from runs in Part 5. The prepopulated values correspond to the times obtained running in a Docker container configured to use 8 GB of RAM and 8 cores on a Ryzen 7 1700.\n",
    "<br/>\n",
    "\n",
    "<hr><br/>"
   ]
  },
  {
   "cell_type": "code",
   "execution_count": null,
   "metadata": {
    "colab": {
     "base_uri": "https://localhost:8080/",
     "height": 1000
    },
    "id": "9552fcad-c5c2-4ab5-ada7-1d3f491b9298",
    "outputId": "6efa9b71-bdfb-4b5d-c8de-7aaeb89440dc"
   },
   "outputs": [],
   "source": [
    "times = {\n",
    "        'KNN alone': (10.0 + 11/60, 10.0 + 18/60, 10.0 + 3/60, 10.0 + 16/60, 10.0 + 30/60, 11.0 + 3/60),\n",
    "        'HDBSCAN + KNN': (11.0 + 9/60, 11.0 + 6/60, 10.0 + 57/60, 11.0 + 4/60, 11.0 + 10/60, 11.0 + 44/60),\n",
    "    }\n",
    "plot_timing(times)"
   ]
  },
  {
   "cell_type": "code",
   "execution_count": null,
   "metadata": {
    "colab": {
     "base_uri": "https://localhost:8080/",
     "height": 1000
    },
    "id": "9d08f89e-dcc5-490c-8771-a911b2a5b977",
    "outputId": "408a9330-16ea-47dc-d77a-29300c54cc50"
   },
   "outputs": [],
   "source": [
    "times = {\n",
    "        'KNN alone': (12.0 + 42/60, 12.0 + 7/60, 11.0 + 22/60, 13.0 + 55/60, 9*60.0 + 15.0, 9*60.0 + 19),\n",
    "        'HDBSCAN + KNN': (13.0 + 17/60, 13.0 + 9/60, 12.0 + 53/60, 15.0 + 6/60, 4*60.0 + 25.0, 4*60.0 + 57.0),\n",
    "    }\n",
    "plot_timing(times, use_satellite=True)"
   ]
  },
  {
   "cell_type": "markdown",
   "metadata": {
    "id": "b830cd6d-7868-45c3-9c3a-b3fd1de9d6c2"
   },
   "source": [
    "###### <br><br>\n",
    "<hr style=\"height:3px;border-width:0;color:red;background-color:red\">   \n",
    "\n",
    "# <center><font color='red'>PART-7: Trivial Algorithms for Comparison </font></center>\n",
    "\n",
    "<br/><hr>\n",
    "\n",
    "In this section, I calculate performance metrics for results obtainable through random chance:<br>\n",
    "1) Randomly assign each pixel to one of the semantic classes, with uniform distribution across the classes.\n",
    "2) Randomly assign each pixel to one of the semantic classes, with the probability of being assigned to a class equal to the prevalence of that class.\n",
    "\n",
    "<hr><br/>"
   ]
  },
  {
   "cell_type": "code",
   "execution_count": null,
   "metadata": {
    "id": "62a9435c-d53f-437e-ae02-80e009167034"
   },
   "outputs": [],
   "source": [
    "predictions_dict = naive_clustering(train_dataset, config, hdbscan_model)"
   ]
  },
  {
   "cell_type": "markdown",
   "metadata": {
    "id": "00109880-8a2e-42e0-8dc3-649d586503f6"
   },
   "source": [
    "<br/><hr>\n",
    "\n",
    "Display the confusion matrix and MIOU metric for trivial implementation #1, uniform distribution. <br/> <hr><br/>"
   ]
  },
  {
   "cell_type": "code",
   "execution_count": null,
   "metadata": {
    "colab": {
     "base_uri": "https://localhost:8080/",
     "height": 941
    },
    "id": "dd013de1-6fb6-4950-b945-03074757a8c2",
    "outputId": "de5e34a3-bb5e-4b9e-c594-839989530518"
   },
   "outputs": [],
   "source": [
    "display_confusion(predictions_dict['random_dict'], config);"
   ]
  },
  {
   "cell_type": "markdown",
   "metadata": {
    "id": "0a43c3a1-f078-4b51-8727-a0c4c0ac3dff"
   },
   "source": [
    "<br/><hr>\n",
    "\n",
    "Display the confusion matrix and MIOU metric for trivial implementation #2, distribution with matched prevalence. <br/> <hr><br/>"
   ]
  },
  {
   "cell_type": "code",
   "execution_count": null,
   "metadata": {
    "colab": {
     "base_uri": "https://localhost:8080/",
     "height": 939
    },
    "id": "65330fa6-effe-4a73-b2c4-31264ba0fbf5",
    "outputId": "be63057a-848e-4474-b9a7-f3cce507c87d"
   },
   "outputs": [],
   "source": [
    "display_confusion(predictions_dict['permuted_dict'], config);"
   ]
  },
  {
   "cell_type": "markdown",
   "metadata": {
    "id": "4bf6f94d-d48a-41fb-86f8-59f04784fe1f"
   },
   "source": [
    "<br><br>\n",
    "<hr style=\"height:3px;border-width:0;color:red;background-color:red\">   \n",
    "\n",
    "# <center><font color='red'>PART-8: Visualizing the Testing Data</font></center>\n",
    "\n",
    "<br/><hr>\n",
    "\n",
    "Visualizations of the testing data.\n",
    "\n",
    "<hr><br/>"
   ]
  },
  {
   "cell_type": "code",
   "execution_count": null,
   "metadata": {
    "id": "6debf5f4-e255-4ad0-8c60-451b9e0849a5"
   },
   "outputs": [],
   "source": [
    "# Create a torch dataset of the training data\n",
    "test_dataset = FusedDataset(dict_files=d_test, config=config)"
   ]
  },
  {
   "cell_type": "markdown",
   "metadata": {
    "id": "8ff09fc8-4508-47ec-a83f-696ee2d43f40"
   },
   "source": [
    "<hr>\n",
    "Display the class distribution of pixels in the training data.\n",
    "<hr><br/>"
   ]
  },
  {
   "cell_type": "code",
   "execution_count": null,
   "metadata": {
    "id": "d9e9df49-fb53-4e87-8035-e7d4111f1855"
   },
   "outputs": [],
   "source": [
    "test_labels = class_distributions(test_dataset, config)"
   ]
  },
  {
   "cell_type": "markdown",
   "metadata": {
    "id": "02447909-0bc9-4707-9880-0e954cad8f39"
   },
   "source": [
    "<hr>\n",
    "Display the shape of the dataframe and the first 5 rows.\n",
    "<hr><br/>"
   ]
  },
  {
   "cell_type": "code",
   "execution_count": null,
   "metadata": {
    "colab": {
     "base_uri": "https://localhost:8080/",
     "height": 224
    },
    "id": "ab2b143f-e1ac-4c92-b136-2fc59133485d",
    "outputId": "d26365c2-4b75-4c52-b567-3103cf996d7d"
   },
   "outputs": [],
   "source": [
    "dataframe = extract_spectra(test_dataset, config, downsample=True, no_other=True, scale_by_intensity=False)\n",
    "print(f\"The dataframe has shape {dataframe.shape}, and the first 5 rows look like below:\")\n",
    "dataframe.head()"
   ]
  },
  {
   "cell_type": "markdown",
   "metadata": {
    "id": "36593170-5c68-48eb-8555-0051a3f9a661"
   },
   "source": [
    "<hr>\n",
    "Display the distribution of channel values by semantic classes.<br/> Setting third input (`channel`) to a channel number (*e.g.*, Blue=1, Green=2, Red=3, NIR=4, ..., Elevation=15) displays a box and whisker plot. The box extends from the data's first quartile (Q1) to the third quartile (Q3), where the orange line represents the median. The interquartile distance (IQR) is between Q1 and Q3 (Q3 - Q1). Data points below Q1 - 1.5*IQR or above Q3 + 1.5*IQR are classified as outliers or fliers; such points are displayed individually with circles. Whiskers extend from the box in each direction to the farthest data point which is not an outlier or flier. <BR>\n",
    "<font color='#90c149'>Re-run the cell below with a different value of the third input, `channel`, to see the results for a different channel, band, or elevation.</font>\n",
    "<hr><br/>"
   ]
  },
  {
   "cell_type": "code",
   "execution_count": null,
   "metadata": {
    "colab": {
     "base_uri": "https://localhost:8080/",
     "height": 659
    },
    "id": "fbe955a6-50fd-49b0-b989-4b33b58b90ae",
    "outputId": "d61a7789-e77d-4c8c-f4a3-cb07089d6c39"
   },
   "outputs": [],
   "source": [
    "box_whisker_by_class(dataframe, config, 4)"
   ]
  },
  {
   "cell_type": "markdown",
   "metadata": {
    "id": "e541c7b0-d764-40d5-b13c-b2517ce197c3"
   },
   "source": [
    "<br><br>\n",
    "<hr style=\"height:3px;border-width:0;color:red;background-color:red\">   \n",
    "\n",
    "# <center><font color='red'>PART-9: Applying Models to Testing Data</font></center>\n",
    "\n",
    "<br/><hr>\n",
    "\n",
    "Applying the best KNN and HDBSCAN models to the testing dataset.\n",
    "\n",
    "<hr><br/>"
   ]
  },
  {
   "cell_type": "code",
   "execution_count": null,
   "metadata": {
    "colab": {
     "base_uri": "https://localhost:8080/"
    },
    "id": "05ff6132-b04e-4ecb-971f-ac601c352599",
    "outputId": "058b20a5-f5ec-4eac-cf24-f19bb5d0174b"
   },
   "outputs": [],
   "source": [
    "%%time\n",
    "knn_test = apply_model(test_dataset, knn_model)"
   ]
  },
  {
   "cell_type": "code",
   "execution_count": null,
   "metadata": {
    "colab": {
     "base_uri": "https://localhost:8080/",
     "height": 973
    },
    "id": "8c22d4da-25df-4364-9088-97df0d6a329c",
    "outputId": "cdb9b20b-251e-4cd2-afad-17e7d2f339fd"
   },
   "outputs": [],
   "source": [
    "display_confusion(knn_test, config);"
   ]
  },
  {
   "cell_type": "code",
   "execution_count": null,
   "metadata": {
    "colab": {
     "base_uri": "https://localhost:8080/"
    },
    "id": "75bdd90c-5fed-4820-9219-6eb0d62eebbb",
    "outputId": "5567d64b-bbf2-4195-ff5d-dad8a56d5386"
   },
   "outputs": [],
   "source": [
    "%%time\n",
    "hdbscan_test = apply_model(test_dataset, hdbscan_model)"
   ]
  },
  {
   "cell_type": "code",
   "execution_count": null,
   "metadata": {
    "colab": {
     "base_uri": "https://localhost:8080/",
     "height": 973
    },
    "id": "1e461dcb-71e2-405c-a329-086ebfc5b93e",
    "outputId": "9551dafa-7b0c-4b96-d03b-503f99149cf3"
   },
   "outputs": [],
   "source": [
    "display_confusion(hdbscan_model, config);"
   ]
  },
  {
   "cell_type": "markdown",
   "metadata": {
    "id": "a0bc22ea-1ef0-4f21-aa8c-171807d11362",
    "tags": []
   },
   "source": [
    "<br><br>\n",
    "<hr style=\"height:3px;border-width:0;color:red;background-color:red\">   \n",
    "\n",
    "# <center><font color='red'>PART-10: Application - Predicting on Input Data</font></center>\n",
    "\n",
    "<br/><hr>\n",
    "\n",
    "This section allows visualization of the data for any pixel in the training or testing datasets. The class for that individual pixel can be predicted, or the class predicted for any manually input values. \n",
    "\n",
    "<hr><br/>"
   ]
  },
  {
   "cell_type": "code",
   "execution_count": null,
   "metadata": {},
   "outputs": [],
   "source": [
    "training_dataframe = extract_spectra(train_dataset, config, downsample=False, no_other=False, scale_by_intensity=False)\n",
    "testing_dataframe = extract_spectra(test_dataset, config, downsample=False, no_other=False, scale_by_intensity=False)"
   ]
  },
  {
   "cell_type": "markdown",
   "metadata": {
    "id": "f8e4fe44-5f9c-4e69-881b-e24b64c205c8",
    "tags": []
   },
   "source": [
    "<hr>\n",
    "Visualize the data from a pixel of your choice. <BR>\n",
    "The first input can be either 'training_dataframe' or 'testing_dataframe'. <BR>\n",
    "Specify the index you want for the patch, the row, and the column. \n",
    "\n",
    "<font color='#90c149'>Re-run the cell below with a different settings for the values above to see results of your choice.</font>\n",
    "<hr><br/>"
   ]
  },
  {
   "cell_type": "code",
   "execution_count": null,
   "metadata": {},
   "outputs": [],
   "source": [
    "selected_df = display_pixel_spectrum(training_dataframe, config, patch_index=10, row_index=0, column_index=0)\n",
    "selected_df"
   ]
  },
  {
   "cell_type": "markdown",
   "metadata": {
    "id": "f8e4fe44-5f9c-4e69-881b-e24b64c205c8",
    "tags": []
   },
   "source": [
    "<hr>\n",
    "Manually construct a pixel of your choice to be predicted. <BR>\n",
    "\n",
    "<font color='#90c149'>Re-run the cell below with a different settings for the values above to see results of your choice.</font>\n",
    "<hr><br/>"
   ]
  },
  {
   "cell_type": "code",
   "execution_count": null,
   "metadata": {},
   "outputs": [],
   "source": [
    "manual_dict = {\n",
    "    \"True_Class\": [0.0], \n",
    "    \"Blue\": [0.317627],\n",
    "    \"Green\": [0.325439], \n",
    "    \"Red\": [0.42749], \n",
    "    \"NIR\": [0.043152],\n",
    "    \"490\": [0.198364], \n",
    "    \"560\": [0.242798], \n",
    "    \"665\": [0.307373], \n",
    "    \"705\": [0.321777], \n",
    "    \"740\": [0.359375], \n",
    "    \"783\": [0.373047], \n",
    "    \"842\": [0.443115], \n",
    "    \"865\": [0.404053], \n",
    "    \"1610\": [0.621582], \n",
    "    \"2190\": [0.567871],\n",
    "    \"elevation\": [0.133301],\n",
    "}\n",
    "manual_df = dict_to_dataframe(manual_dict)\n",
    "manual_df\n"
   ]
  },
  {
   "cell_type": "markdown",
   "metadata": {
    "id": "f8e4fe44-5f9c-4e69-881b-e24b64c205c8",
    "tags": []
   },
   "source": [
    "<hr>\n",
    "The cells below can be used to predict the class for an individual pixel. <BR>\n",
    "Either 'manual_df' or 'selected_df' can be used. <BR>\n",
    "\n",
    "<font color='#90c149'>Re-run the cell below with a different previously generated inputs to see results of your choice.</font>\n",
    "<hr><br/>"
   ]
  },
  {
   "cell_type": "code",
   "execution_count": null,
   "metadata": {},
   "outputs": [],
   "source": [
    "predict_pixels(selected_df, knn_model)"
   ]
  },
  {
   "cell_type": "code",
   "execution_count": null,
   "metadata": {},
   "outputs": [],
   "source": [
    "predict_pixels(selected_df, hdbscan_model)"
   ]
  }
 ],
 "metadata": {
  "colab": {
   "provenance": []
  },
  "kernelspec": {
   "display_name": "Python 3 (ipykernel)",
   "language": "python",
   "name": "python3"
  },
  "language_info": {
   "codemirror_mode": {
    "name": "ipython",
    "version": 3
   },
   "file_extension": ".py",
   "mimetype": "text/x-python",
   "name": "python",
   "nbconvert_exporter": "python",
   "pygments_lexer": "ipython3",
   "version": "3.11.9"
  }
 },
 "nbformat": 4,
 "nbformat_minor": 4
}
