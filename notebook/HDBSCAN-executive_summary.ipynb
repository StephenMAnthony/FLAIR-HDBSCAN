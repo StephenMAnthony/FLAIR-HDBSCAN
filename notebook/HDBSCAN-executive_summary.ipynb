{
 "cells": [
  {
   "cell_type": "markdown",
   "id": "ca349dff-0c9f-4cb6-9488-edaa728b4112",
   "metadata": {
    "id": "f631ae2d-c169-461c-937a-3446a78abe79",
    "tags": []
   },
   "source": [
    "# <center><strong>HDSCAN Clustering of FLAIR Data</strong></center>\n",
    "## <center><strong>Executive Summary</strong></center>\n",
    "<br/>\n",
    "\n",
    "<br/><center>This notebook provides a simplified view of the exploratory project to test whether HDBSCAN clustering can serve as a replacement for manual annotation. As an executive summary, only the most important visualizations and analyses are displayed here. </center>\n",
    "<br/> <br/> \n",
    "  \n"
   ]
  },
  {
   "cell_type": "markdown",
   "id": "3193bbbe-5a71-4941-954b-9790a519506a",
   "metadata": {},
   "source": [
    "<hr style=\"height:1.5px;border-width:0;color:red;background-color:red\">    \n",
    "\n",
    "# <font color='red'>PART-1: Data visualization with the toy dataset training data</font>\n",
    "\n",
    "Note, that this project uses the FLAIR #2 dataset, a publicly available dataset. A reference implementation (including a baseline model) is available in a GitHub repository. The baseline model uses a two-branch architecture integrating a U-Net with a pre-trained ResNet34 encoder and a U-TAE encompassing a temporal self-attention encoder. This project experiments with an alternative data analysis technique, HDBSCAN. As such, this notebook does not use the baseline model. Part 1 uses the reference implementation with minor modifications to load and display the unanalyzed data. The novel portion of this project starts at Part 2. \n",
    "\n",
    "Links\n",
    "Datapaper: https://arxiv.org/pdf/2305.14467.pdf\n",
    "Dataset link: https://ignf.github.io/FLAIR/#FLAIR2\n",
    "Reference Source code link: https://github.com/IGNF/FLAIR-2/tree/main\n",
    "Challenge page: https://codalab.lisn.upsaclay.fr/competitions/13447\n",
    "\n",
    "<p dir=\"auto\">Citation required when using the FLAIR #2 dataset:</p>\n",
    "<div class=\"highlight highlight-text-bibtex notranslate position-relative overflow-auto\" dir=\"auto\" data-snippet-clipboard-copy-content=\"@inproceedings{ign2023flair2,\n",
    "      title={FLAIR: a Country-Scale Land Cover Semantic Segmentation Dataset From Multi-Source Optical Imagery}, \n",
    "      author={Anatol Garioud and Nicolas Gonthier and Loic Landrieu and Apolline De Wit and Marion Valette and Marc Poupée and Sébastien Giordano and Boris Wattrelos},\n",
    "      year={2023},\n",
    "      booktitle={Advances in Neural Information Processing Systems (NeurIPS) 2023},\n",
    "      doi={https://doi.org/10.48550/arXiv.2310.13336},\n",
    "}\"><pre><span class=\"pl-k\">@inproceedings</span>{<span class=\"pl-en\">ign2023flair2</span>,\n",
    "      <span class=\"pl-s\">title</span>=<span class=\"pl-s\"><span class=\"pl-pds\">{</span>FLAIR: a Country-Scale Land Cover Semantic Segmentation Dataset From Multi-Source Optical Imagery<span class=\"pl-pds\">}</span></span>, \n",
    "      <span class=\"pl-s\">author</span>=<span class=\"pl-s\"><span class=\"pl-pds\">{</span>Anatol Garioud and Nicolas Gonthier and Loic Landrieu and Apolline De Wit and Marion Valette and Marc Poupée and Sébastien Giordano and Boris Wattrelos<span class=\"pl-pds\">}</span></span>,\n",
    "      <span class=\"pl-s\">year</span>=<span class=\"pl-s\"><span class=\"pl-pds\">{</span>2023<span class=\"pl-pds\">}</span></span>,\n",
    "      <span class=\"pl-s\">booktitle</span>=<span class=\"pl-s\"><span class=\"pl-pds\">{</span>Advances in Neural Information Processing Systems (NeurIPS) 2023<span class=\"pl-pds\">}</span></span>,\n",
    "      <span class=\"pl-s\">doi</span>=<span class=\"pl-s\"><span class=\"pl-pds\">{</span>https://doi.org/10.48550/arXiv.2310.13336<span class=\"pl-pds\">}</span></span>,\n",
    "}</pre></div>\n",
    "\n",
    "\n",
    "<br/>"
   ]
  },
  {
   "cell_type": "code",
   "execution_count": null,
   "id": "0d6aedc7-80e9-492b-92df-9933e9a112a7",
   "metadata": {},
   "outputs": [],
   "source": []
  }
 ],
 "metadata": {
  "kernelspec": {
   "display_name": "Python 3 (ipykernel)",
   "language": "python",
   "name": "python3"
  },
  "language_info": {
   "codemirror_mode": {
    "name": "ipython",
    "version": 3
   },
   "file_extension": ".py",
   "mimetype": "text/x-python",
   "name": "python",
   "nbconvert_exporter": "python",
   "pygments_lexer": "ipython3",
   "version": "3.11.9"
  }
 },
 "nbformat": 4,
 "nbformat_minor": 5
}
